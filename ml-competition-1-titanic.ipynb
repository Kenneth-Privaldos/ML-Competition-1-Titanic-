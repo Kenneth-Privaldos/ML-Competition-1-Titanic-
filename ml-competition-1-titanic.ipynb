{
 "cells": [
  {
   "cell_type": "markdown",
   "id": "1e53da55",
   "metadata": {
    "papermill": {
     "duration": 0.008324,
     "end_time": "2022-12-14T17:47:15.895378",
     "exception": false,
     "start_time": "2022-12-14T17:47:15.887054",
     "status": "completed"
    },
    "tags": []
   },
   "source": [
    "# Importing Tools"
   ]
  },
  {
   "cell_type": "code",
   "execution_count": 1,
   "id": "7897e098",
   "metadata": {
    "execution": {
     "iopub.execute_input": "2022-12-14T17:47:15.911630Z",
     "iopub.status.busy": "2022-12-14T17:47:15.910389Z",
     "iopub.status.idle": "2022-12-14T17:47:17.218987Z",
     "shell.execute_reply": "2022-12-14T17:47:17.217927Z"
    },
    "papermill": {
     "duration": 1.319261,
     "end_time": "2022-12-14T17:47:17.221563",
     "exception": false,
     "start_time": "2022-12-14T17:47:15.902302",
     "status": "completed"
    },
    "tags": []
   },
   "outputs": [],
   "source": [
    "import numpy as np\n",
    "import pandas as pd\n",
    "\n",
    "import matplotlib.pyplot as plt\n",
    "import seaborn as sns\n",
    "\n",
    "#Preprocessing\n",
    "from sklearn.preprocessing import StandardScaler\n",
    "from sklearn.preprocessing import OneHotEncoder\n",
    "from sklearn.model_selection import train_test_split\n",
    "from sklearn.preprocessing import LabelEncoder\n",
    "\n",
    "#Models\n",
    "from sklearn.linear_model import LogisticRegression\n",
    "from xgboost import XGBClassifier\n",
    "from sklearn.svm import SVC\n",
    "from sklearn.neural_network import MLPClassifier"
   ]
  },
  {
   "cell_type": "markdown",
   "id": "70607bce",
   "metadata": {
    "papermill": {
     "duration": 0.006481,
     "end_time": "2022-12-14T17:47:17.234795",
     "exception": false,
     "start_time": "2022-12-14T17:47:17.228314",
     "status": "completed"
    },
    "tags": []
   },
   "source": [
    "# Data Preprocessing"
   ]
  },
  {
   "cell_type": "code",
   "execution_count": 2,
   "id": "d1d3d1e3",
   "metadata": {
    "execution": {
     "iopub.execute_input": "2022-12-14T17:47:17.249425Z",
     "iopub.status.busy": "2022-12-14T17:47:17.248966Z",
     "iopub.status.idle": "2022-12-14T17:47:17.281003Z",
     "shell.execute_reply": "2022-12-14T17:47:17.279715Z"
    },
    "papermill": {
     "duration": 0.042186,
     "end_time": "2022-12-14T17:47:17.283481",
     "exception": false,
     "start_time": "2022-12-14T17:47:17.241295",
     "status": "completed"
    },
    "tags": []
   },
   "outputs": [],
   "source": [
    "train= pd.read_csv(\"/kaggle/input/titanic/train.csv\")\n",
    "test= pd.read_csv(\"/kaggle/input/titanic/test.csv\")"
   ]
  },
  {
   "cell_type": "markdown",
   "id": "617bd323",
   "metadata": {
    "papermill": {
     "duration": 0.006245,
     "end_time": "2022-12-14T17:47:17.296468",
     "exception": false,
     "start_time": "2022-12-14T17:47:17.290223",
     "status": "completed"
    },
    "tags": []
   },
   "source": [
    "# Quick dataset information 🤓"
   ]
  },
  {
   "cell_type": "code",
   "execution_count": 3,
   "id": "6a299e28",
   "metadata": {
    "execution": {
     "iopub.execute_input": "2022-12-14T17:47:17.311604Z",
     "iopub.status.busy": "2022-12-14T17:47:17.311310Z",
     "iopub.status.idle": "2022-12-14T17:47:17.339112Z",
     "shell.execute_reply": "2022-12-14T17:47:17.338289Z"
    },
    "papermill": {
     "duration": 0.038699,
     "end_time": "2022-12-14T17:47:17.341592",
     "exception": false,
     "start_time": "2022-12-14T17:47:17.302893",
     "status": "completed"
    },
    "tags": []
   },
   "outputs": [
    {
     "name": "stdout",
     "output_type": "stream",
     "text": [
      "<class 'pandas.core.frame.DataFrame'>\n",
      "RangeIndex: 891 entries, 0 to 890\n",
      "Data columns (total 12 columns):\n",
      " #   Column       Non-Null Count  Dtype  \n",
      "---  ------       --------------  -----  \n",
      " 0   PassengerId  891 non-null    int64  \n",
      " 1   Survived     891 non-null    int64  \n",
      " 2   Pclass       891 non-null    int64  \n",
      " 3   Name         891 non-null    object \n",
      " 4   Sex          891 non-null    object \n",
      " 5   Age          714 non-null    float64\n",
      " 6   SibSp        891 non-null    int64  \n",
      " 7   Parch        891 non-null    int64  \n",
      " 8   Ticket       891 non-null    object \n",
      " 9   Fare         891 non-null    float64\n",
      " 10  Cabin        204 non-null    object \n",
      " 11  Embarked     889 non-null    object \n",
      "dtypes: float64(2), int64(5), object(5)\n",
      "memory usage: 83.7+ KB\n"
     ]
    }
   ],
   "source": [
    "train.info()"
   ]
  },
  {
   "cell_type": "code",
   "execution_count": 4,
   "id": "c4967efd",
   "metadata": {
    "execution": {
     "iopub.execute_input": "2022-12-14T17:47:17.359026Z",
     "iopub.status.busy": "2022-12-14T17:47:17.358249Z",
     "iopub.status.idle": "2022-12-14T17:47:17.370898Z",
     "shell.execute_reply": "2022-12-14T17:47:17.369624Z"
    },
    "papermill": {
     "duration": 0.023593,
     "end_time": "2022-12-14T17:47:17.373077",
     "exception": false,
     "start_time": "2022-12-14T17:47:17.349484",
     "status": "completed"
    },
    "tags": []
   },
   "outputs": [
    {
     "name": "stdout",
     "output_type": "stream",
     "text": [
      "<class 'pandas.core.frame.DataFrame'>\n",
      "RangeIndex: 418 entries, 0 to 417\n",
      "Data columns (total 11 columns):\n",
      " #   Column       Non-Null Count  Dtype  \n",
      "---  ------       --------------  -----  \n",
      " 0   PassengerId  418 non-null    int64  \n",
      " 1   Pclass       418 non-null    int64  \n",
      " 2   Name         418 non-null    object \n",
      " 3   Sex          418 non-null    object \n",
      " 4   Age          332 non-null    float64\n",
      " 5   SibSp        418 non-null    int64  \n",
      " 6   Parch        418 non-null    int64  \n",
      " 7   Ticket       418 non-null    object \n",
      " 8   Fare         417 non-null    float64\n",
      " 9   Cabin        91 non-null     object \n",
      " 10  Embarked     418 non-null    object \n",
      "dtypes: float64(2), int64(4), object(5)\n",
      "memory usage: 36.0+ KB\n"
     ]
    }
   ],
   "source": [
    "test.info()"
   ]
  },
  {
   "cell_type": "code",
   "execution_count": 5,
   "id": "e3c1856b",
   "metadata": {
    "execution": {
     "iopub.execute_input": "2022-12-14T17:47:17.389115Z",
     "iopub.status.busy": "2022-12-14T17:47:17.388810Z",
     "iopub.status.idle": "2022-12-14T17:47:17.422937Z",
     "shell.execute_reply": "2022-12-14T17:47:17.422128Z"
    },
    "papermill": {
     "duration": 0.044214,
     "end_time": "2022-12-14T17:47:17.424511",
     "exception": false,
     "start_time": "2022-12-14T17:47:17.380297",
     "status": "completed"
    },
    "tags": []
   },
   "outputs": [
    {
     "data": {
      "text/html": [
       "<div>\n",
       "<style scoped>\n",
       "    .dataframe tbody tr th:only-of-type {\n",
       "        vertical-align: middle;\n",
       "    }\n",
       "\n",
       "    .dataframe tbody tr th {\n",
       "        vertical-align: top;\n",
       "    }\n",
       "\n",
       "    .dataframe thead th {\n",
       "        text-align: right;\n",
       "    }\n",
       "</style>\n",
       "<table border=\"1\" class=\"dataframe\">\n",
       "  <thead>\n",
       "    <tr style=\"text-align: right;\">\n",
       "      <th></th>\n",
       "      <th>PassengerId</th>\n",
       "      <th>Survived</th>\n",
       "      <th>Pclass</th>\n",
       "      <th>Age</th>\n",
       "      <th>SibSp</th>\n",
       "      <th>Parch</th>\n",
       "      <th>Fare</th>\n",
       "    </tr>\n",
       "  </thead>\n",
       "  <tbody>\n",
       "    <tr>\n",
       "      <th>count</th>\n",
       "      <td>891.000000</td>\n",
       "      <td>891.000000</td>\n",
       "      <td>891.000000</td>\n",
       "      <td>714.000000</td>\n",
       "      <td>891.000000</td>\n",
       "      <td>891.000000</td>\n",
       "      <td>891.000000</td>\n",
       "    </tr>\n",
       "    <tr>\n",
       "      <th>mean</th>\n",
       "      <td>446.000000</td>\n",
       "      <td>0.383838</td>\n",
       "      <td>2.308642</td>\n",
       "      <td>29.699118</td>\n",
       "      <td>0.523008</td>\n",
       "      <td>0.381594</td>\n",
       "      <td>32.204208</td>\n",
       "    </tr>\n",
       "    <tr>\n",
       "      <th>std</th>\n",
       "      <td>257.353842</td>\n",
       "      <td>0.486592</td>\n",
       "      <td>0.836071</td>\n",
       "      <td>14.526497</td>\n",
       "      <td>1.102743</td>\n",
       "      <td>0.806057</td>\n",
       "      <td>49.693429</td>\n",
       "    </tr>\n",
       "    <tr>\n",
       "      <th>min</th>\n",
       "      <td>1.000000</td>\n",
       "      <td>0.000000</td>\n",
       "      <td>1.000000</td>\n",
       "      <td>0.420000</td>\n",
       "      <td>0.000000</td>\n",
       "      <td>0.000000</td>\n",
       "      <td>0.000000</td>\n",
       "    </tr>\n",
       "    <tr>\n",
       "      <th>25%</th>\n",
       "      <td>223.500000</td>\n",
       "      <td>0.000000</td>\n",
       "      <td>2.000000</td>\n",
       "      <td>20.125000</td>\n",
       "      <td>0.000000</td>\n",
       "      <td>0.000000</td>\n",
       "      <td>7.910400</td>\n",
       "    </tr>\n",
       "    <tr>\n",
       "      <th>50%</th>\n",
       "      <td>446.000000</td>\n",
       "      <td>0.000000</td>\n",
       "      <td>3.000000</td>\n",
       "      <td>28.000000</td>\n",
       "      <td>0.000000</td>\n",
       "      <td>0.000000</td>\n",
       "      <td>14.454200</td>\n",
       "    </tr>\n",
       "    <tr>\n",
       "      <th>75%</th>\n",
       "      <td>668.500000</td>\n",
       "      <td>1.000000</td>\n",
       "      <td>3.000000</td>\n",
       "      <td>38.000000</td>\n",
       "      <td>1.000000</td>\n",
       "      <td>0.000000</td>\n",
       "      <td>31.000000</td>\n",
       "    </tr>\n",
       "    <tr>\n",
       "      <th>max</th>\n",
       "      <td>891.000000</td>\n",
       "      <td>1.000000</td>\n",
       "      <td>3.000000</td>\n",
       "      <td>80.000000</td>\n",
       "      <td>8.000000</td>\n",
       "      <td>6.000000</td>\n",
       "      <td>512.329200</td>\n",
       "    </tr>\n",
       "  </tbody>\n",
       "</table>\n",
       "</div>"
      ],
      "text/plain": [
       "       PassengerId    Survived      Pclass         Age       SibSp  \\\n",
       "count   891.000000  891.000000  891.000000  714.000000  891.000000   \n",
       "mean    446.000000    0.383838    2.308642   29.699118    0.523008   \n",
       "std     257.353842    0.486592    0.836071   14.526497    1.102743   \n",
       "min       1.000000    0.000000    1.000000    0.420000    0.000000   \n",
       "25%     223.500000    0.000000    2.000000   20.125000    0.000000   \n",
       "50%     446.000000    0.000000    3.000000   28.000000    0.000000   \n",
       "75%     668.500000    1.000000    3.000000   38.000000    1.000000   \n",
       "max     891.000000    1.000000    3.000000   80.000000    8.000000   \n",
       "\n",
       "            Parch        Fare  \n",
       "count  891.000000  891.000000  \n",
       "mean     0.381594   32.204208  \n",
       "std      0.806057   49.693429  \n",
       "min      0.000000    0.000000  \n",
       "25%      0.000000    7.910400  \n",
       "50%      0.000000   14.454200  \n",
       "75%      0.000000   31.000000  \n",
       "max      6.000000  512.329200  "
      ]
     },
     "execution_count": 5,
     "metadata": {},
     "output_type": "execute_result"
    }
   ],
   "source": [
    "train.describe()"
   ]
  },
  {
   "cell_type": "code",
   "execution_count": 6,
   "id": "3ebbc512",
   "metadata": {
    "execution": {
     "iopub.execute_input": "2022-12-14T17:47:17.440093Z",
     "iopub.status.busy": "2022-12-14T17:47:17.439711Z",
     "iopub.status.idle": "2022-12-14T17:47:17.465435Z",
     "shell.execute_reply": "2022-12-14T17:47:17.464108Z"
    },
    "papermill": {
     "duration": 0.03579,
     "end_time": "2022-12-14T17:47:17.467196",
     "exception": false,
     "start_time": "2022-12-14T17:47:17.431406",
     "status": "completed"
    },
    "tags": []
   },
   "outputs": [
    {
     "data": {
      "text/html": [
       "<div>\n",
       "<style scoped>\n",
       "    .dataframe tbody tr th:only-of-type {\n",
       "        vertical-align: middle;\n",
       "    }\n",
       "\n",
       "    .dataframe tbody tr th {\n",
       "        vertical-align: top;\n",
       "    }\n",
       "\n",
       "    .dataframe thead th {\n",
       "        text-align: right;\n",
       "    }\n",
       "</style>\n",
       "<table border=\"1\" class=\"dataframe\">\n",
       "  <thead>\n",
       "    <tr style=\"text-align: right;\">\n",
       "      <th></th>\n",
       "      <th>PassengerId</th>\n",
       "      <th>Pclass</th>\n",
       "      <th>Age</th>\n",
       "      <th>SibSp</th>\n",
       "      <th>Parch</th>\n",
       "      <th>Fare</th>\n",
       "    </tr>\n",
       "  </thead>\n",
       "  <tbody>\n",
       "    <tr>\n",
       "      <th>count</th>\n",
       "      <td>418.000000</td>\n",
       "      <td>418.000000</td>\n",
       "      <td>332.000000</td>\n",
       "      <td>418.000000</td>\n",
       "      <td>418.000000</td>\n",
       "      <td>417.000000</td>\n",
       "    </tr>\n",
       "    <tr>\n",
       "      <th>mean</th>\n",
       "      <td>1100.500000</td>\n",
       "      <td>2.265550</td>\n",
       "      <td>30.272590</td>\n",
       "      <td>0.447368</td>\n",
       "      <td>0.392344</td>\n",
       "      <td>35.627188</td>\n",
       "    </tr>\n",
       "    <tr>\n",
       "      <th>std</th>\n",
       "      <td>120.810458</td>\n",
       "      <td>0.841838</td>\n",
       "      <td>14.181209</td>\n",
       "      <td>0.896760</td>\n",
       "      <td>0.981429</td>\n",
       "      <td>55.907576</td>\n",
       "    </tr>\n",
       "    <tr>\n",
       "      <th>min</th>\n",
       "      <td>892.000000</td>\n",
       "      <td>1.000000</td>\n",
       "      <td>0.170000</td>\n",
       "      <td>0.000000</td>\n",
       "      <td>0.000000</td>\n",
       "      <td>0.000000</td>\n",
       "    </tr>\n",
       "    <tr>\n",
       "      <th>25%</th>\n",
       "      <td>996.250000</td>\n",
       "      <td>1.000000</td>\n",
       "      <td>21.000000</td>\n",
       "      <td>0.000000</td>\n",
       "      <td>0.000000</td>\n",
       "      <td>7.895800</td>\n",
       "    </tr>\n",
       "    <tr>\n",
       "      <th>50%</th>\n",
       "      <td>1100.500000</td>\n",
       "      <td>3.000000</td>\n",
       "      <td>27.000000</td>\n",
       "      <td>0.000000</td>\n",
       "      <td>0.000000</td>\n",
       "      <td>14.454200</td>\n",
       "    </tr>\n",
       "    <tr>\n",
       "      <th>75%</th>\n",
       "      <td>1204.750000</td>\n",
       "      <td>3.000000</td>\n",
       "      <td>39.000000</td>\n",
       "      <td>1.000000</td>\n",
       "      <td>0.000000</td>\n",
       "      <td>31.500000</td>\n",
       "    </tr>\n",
       "    <tr>\n",
       "      <th>max</th>\n",
       "      <td>1309.000000</td>\n",
       "      <td>3.000000</td>\n",
       "      <td>76.000000</td>\n",
       "      <td>8.000000</td>\n",
       "      <td>9.000000</td>\n",
       "      <td>512.329200</td>\n",
       "    </tr>\n",
       "  </tbody>\n",
       "</table>\n",
       "</div>"
      ],
      "text/plain": [
       "       PassengerId      Pclass         Age       SibSp       Parch        Fare\n",
       "count   418.000000  418.000000  332.000000  418.000000  418.000000  417.000000\n",
       "mean   1100.500000    2.265550   30.272590    0.447368    0.392344   35.627188\n",
       "std     120.810458    0.841838   14.181209    0.896760    0.981429   55.907576\n",
       "min     892.000000    1.000000    0.170000    0.000000    0.000000    0.000000\n",
       "25%     996.250000    1.000000   21.000000    0.000000    0.000000    7.895800\n",
       "50%    1100.500000    3.000000   27.000000    0.000000    0.000000   14.454200\n",
       "75%    1204.750000    3.000000   39.000000    1.000000    0.000000   31.500000\n",
       "max    1309.000000    3.000000   76.000000    8.000000    9.000000  512.329200"
      ]
     },
     "execution_count": 6,
     "metadata": {},
     "output_type": "execute_result"
    }
   ],
   "source": [
    "test.describe()"
   ]
  },
  {
   "cell_type": "markdown",
   "id": "cd384142",
   "metadata": {
    "papermill": {
     "duration": 0.006643,
     "end_time": "2022-12-14T17:47:17.480924",
     "exception": false,
     "start_time": "2022-12-14T17:47:17.474281",
     "status": "completed"
    },
    "tags": []
   },
   "source": [
    "# 🧹 Data Processing\n",
    "1. Deal with Null values\n",
    "2. Change categorical values using one hot encoder\n",
    "3. Feature Scaling\n"
   ]
  },
  {
   "cell_type": "code",
   "execution_count": 7,
   "id": "0ec81e16",
   "metadata": {
    "execution": {
     "iopub.execute_input": "2022-12-14T17:47:17.497139Z",
     "iopub.status.busy": "2022-12-14T17:47:17.496365Z",
     "iopub.status.idle": "2022-12-14T17:47:17.502402Z",
     "shell.execute_reply": "2022-12-14T17:47:17.501775Z"
    },
    "papermill": {
     "duration": 0.016193,
     "end_time": "2022-12-14T17:47:17.503877",
     "exception": false,
     "start_time": "2022-12-14T17:47:17.487684",
     "status": "completed"
    },
    "tags": []
   },
   "outputs": [],
   "source": [
    "#Dropping Passenger Id, ticket, and name\n",
    "train.drop(['PassengerId', 'Ticket', 'Name', 'Cabin'], axis=1, inplace=True)\n",
    "dfps=test.PassengerId.copy()\n",
    "test.drop(['PassengerId', 'Ticket', 'Name', 'Cabin'], axis=1, inplace=True)"
   ]
  },
  {
   "cell_type": "code",
   "execution_count": 8,
   "id": "f923bca3",
   "metadata": {
    "execution": {
     "iopub.execute_input": "2022-12-14T17:47:17.519330Z",
     "iopub.status.busy": "2022-12-14T17:47:17.518746Z",
     "iopub.status.idle": "2022-12-14T17:47:17.591589Z",
     "shell.execute_reply": "2022-12-14T17:47:17.590320Z"
    },
    "papermill": {
     "duration": 0.083332,
     "end_time": "2022-12-14T17:47:17.594138",
     "exception": false,
     "start_time": "2022-12-14T17:47:17.510806",
     "status": "completed"
    },
    "tags": []
   },
   "outputs": [],
   "source": [
    "# Taking care of missing data ('Age')\n",
    "from sklearn.impute import SimpleImputer\n",
    "imputer = SimpleImputer(missing_values=np.nan, strategy='mean')\n",
    "imputer.fit(train.iloc[: , 3:7])\n",
    "train.iloc[: , 3:7] = imputer.transform(train.iloc[: , 3:7])\n",
    "\n",
    "# Taking care of missing data ('Embarked'), most frequent value\n",
    "imputer = SimpleImputer(missing_values=np.nan, strategy='most_frequent')\n",
    "imputer.fit(train.iloc[: , 6:])\n",
    "train.iloc[: , 6:] = imputer.transform(train.iloc[: , 6:])"
   ]
  },
  {
   "cell_type": "code",
   "execution_count": 9,
   "id": "8553f22e",
   "metadata": {
    "execution": {
     "iopub.execute_input": "2022-12-14T17:47:17.610312Z",
     "iopub.status.busy": "2022-12-14T17:47:17.609989Z",
     "iopub.status.idle": "2022-12-14T17:47:17.622087Z",
     "shell.execute_reply": "2022-12-14T17:47:17.620661Z"
    },
    "papermill": {
     "duration": 0.022404,
     "end_time": "2022-12-14T17:47:17.624279",
     "exception": false,
     "start_time": "2022-12-14T17:47:17.601875",
     "status": "completed"
    },
    "tags": []
   },
   "outputs": [],
   "source": [
    "# Taking care of missing data ('Age') & ('Fare') Test\n",
    "from sklearn.impute import SimpleImputer\n",
    "imputer = SimpleImputer(missing_values=np.nan, strategy='mean')\n",
    "imputer.fit(test.iloc[: , 2:6])\n",
    "test.iloc[: , 2:6] = imputer.transform(test.iloc[: , 2:6])\n"
   ]
  },
  {
   "cell_type": "code",
   "execution_count": 10,
   "id": "56ffe01c",
   "metadata": {
    "execution": {
     "iopub.execute_input": "2022-12-14T17:47:17.641011Z",
     "iopub.status.busy": "2022-12-14T17:47:17.640361Z",
     "iopub.status.idle": "2022-12-14T17:47:17.648853Z",
     "shell.execute_reply": "2022-12-14T17:47:17.647953Z"
    },
    "papermill": {
     "duration": 0.019442,
     "end_time": "2022-12-14T17:47:17.651178",
     "exception": false,
     "start_time": "2022-12-14T17:47:17.631736",
     "status": "completed"
    },
    "tags": []
   },
   "outputs": [],
   "source": [
    "categ = ['Embarked','Sex']\n",
    "\n",
    "# Encode Categorical Columns\n",
    "le = LabelEncoder()\n",
    "test[categ] = test[categ].apply(le.fit_transform)\n",
    "train[categ] = train[categ].apply(le.fit_transform)"
   ]
  },
  {
   "cell_type": "code",
   "execution_count": 11,
   "id": "e913027f",
   "metadata": {
    "execution": {
     "iopub.execute_input": "2022-12-14T17:47:17.667583Z",
     "iopub.status.busy": "2022-12-14T17:47:17.667269Z",
     "iopub.status.idle": "2022-12-14T17:47:17.682676Z",
     "shell.execute_reply": "2022-12-14T17:47:17.681329Z"
    },
    "papermill": {
     "duration": 0.026198,
     "end_time": "2022-12-14T17:47:17.684687",
     "exception": false,
     "start_time": "2022-12-14T17:47:17.658489",
     "status": "completed"
    },
    "tags": []
   },
   "outputs": [
    {
     "data": {
      "text/html": [
       "<div>\n",
       "<style scoped>\n",
       "    .dataframe tbody tr th:only-of-type {\n",
       "        vertical-align: middle;\n",
       "    }\n",
       "\n",
       "    .dataframe tbody tr th {\n",
       "        vertical-align: top;\n",
       "    }\n",
       "\n",
       "    .dataframe thead th {\n",
       "        text-align: right;\n",
       "    }\n",
       "</style>\n",
       "<table border=\"1\" class=\"dataframe\">\n",
       "  <thead>\n",
       "    <tr style=\"text-align: right;\">\n",
       "      <th></th>\n",
       "      <th>Survived</th>\n",
       "      <th>Pclass</th>\n",
       "      <th>Sex</th>\n",
       "      <th>Age</th>\n",
       "      <th>SibSp</th>\n",
       "      <th>Parch</th>\n",
       "      <th>Fare</th>\n",
       "      <th>Embarked</th>\n",
       "    </tr>\n",
       "  </thead>\n",
       "  <tbody>\n",
       "    <tr>\n",
       "      <th>0</th>\n",
       "      <td>0</td>\n",
       "      <td>3</td>\n",
       "      <td>1</td>\n",
       "      <td>22.000000</td>\n",
       "      <td>1.0</td>\n",
       "      <td>0.0</td>\n",
       "      <td>7.2500</td>\n",
       "      <td>2</td>\n",
       "    </tr>\n",
       "    <tr>\n",
       "      <th>1</th>\n",
       "      <td>1</td>\n",
       "      <td>1</td>\n",
       "      <td>0</td>\n",
       "      <td>38.000000</td>\n",
       "      <td>1.0</td>\n",
       "      <td>0.0</td>\n",
       "      <td>71.2833</td>\n",
       "      <td>0</td>\n",
       "    </tr>\n",
       "    <tr>\n",
       "      <th>2</th>\n",
       "      <td>1</td>\n",
       "      <td>3</td>\n",
       "      <td>0</td>\n",
       "      <td>26.000000</td>\n",
       "      <td>0.0</td>\n",
       "      <td>0.0</td>\n",
       "      <td>7.9250</td>\n",
       "      <td>2</td>\n",
       "    </tr>\n",
       "    <tr>\n",
       "      <th>3</th>\n",
       "      <td>1</td>\n",
       "      <td>1</td>\n",
       "      <td>0</td>\n",
       "      <td>35.000000</td>\n",
       "      <td>1.0</td>\n",
       "      <td>0.0</td>\n",
       "      <td>53.1000</td>\n",
       "      <td>2</td>\n",
       "    </tr>\n",
       "    <tr>\n",
       "      <th>4</th>\n",
       "      <td>0</td>\n",
       "      <td>3</td>\n",
       "      <td>1</td>\n",
       "      <td>35.000000</td>\n",
       "      <td>0.0</td>\n",
       "      <td>0.0</td>\n",
       "      <td>8.0500</td>\n",
       "      <td>2</td>\n",
       "    </tr>\n",
       "    <tr>\n",
       "      <th>...</th>\n",
       "      <td>...</td>\n",
       "      <td>...</td>\n",
       "      <td>...</td>\n",
       "      <td>...</td>\n",
       "      <td>...</td>\n",
       "      <td>...</td>\n",
       "      <td>...</td>\n",
       "      <td>...</td>\n",
       "    </tr>\n",
       "    <tr>\n",
       "      <th>886</th>\n",
       "      <td>0</td>\n",
       "      <td>2</td>\n",
       "      <td>1</td>\n",
       "      <td>27.000000</td>\n",
       "      <td>0.0</td>\n",
       "      <td>0.0</td>\n",
       "      <td>13.0000</td>\n",
       "      <td>2</td>\n",
       "    </tr>\n",
       "    <tr>\n",
       "      <th>887</th>\n",
       "      <td>1</td>\n",
       "      <td>1</td>\n",
       "      <td>0</td>\n",
       "      <td>19.000000</td>\n",
       "      <td>0.0</td>\n",
       "      <td>0.0</td>\n",
       "      <td>30.0000</td>\n",
       "      <td>2</td>\n",
       "    </tr>\n",
       "    <tr>\n",
       "      <th>888</th>\n",
       "      <td>0</td>\n",
       "      <td>3</td>\n",
       "      <td>0</td>\n",
       "      <td>29.699118</td>\n",
       "      <td>1.0</td>\n",
       "      <td>2.0</td>\n",
       "      <td>23.4500</td>\n",
       "      <td>2</td>\n",
       "    </tr>\n",
       "    <tr>\n",
       "      <th>889</th>\n",
       "      <td>1</td>\n",
       "      <td>1</td>\n",
       "      <td>1</td>\n",
       "      <td>26.000000</td>\n",
       "      <td>0.0</td>\n",
       "      <td>0.0</td>\n",
       "      <td>30.0000</td>\n",
       "      <td>0</td>\n",
       "    </tr>\n",
       "    <tr>\n",
       "      <th>890</th>\n",
       "      <td>0</td>\n",
       "      <td>3</td>\n",
       "      <td>1</td>\n",
       "      <td>32.000000</td>\n",
       "      <td>0.0</td>\n",
       "      <td>0.0</td>\n",
       "      <td>7.7500</td>\n",
       "      <td>1</td>\n",
       "    </tr>\n",
       "  </tbody>\n",
       "</table>\n",
       "<p>891 rows × 8 columns</p>\n",
       "</div>"
      ],
      "text/plain": [
       "     Survived  Pclass  Sex        Age  SibSp  Parch     Fare  Embarked\n",
       "0           0       3    1  22.000000    1.0    0.0   7.2500         2\n",
       "1           1       1    0  38.000000    1.0    0.0  71.2833         0\n",
       "2           1       3    0  26.000000    0.0    0.0   7.9250         2\n",
       "3           1       1    0  35.000000    1.0    0.0  53.1000         2\n",
       "4           0       3    1  35.000000    0.0    0.0   8.0500         2\n",
       "..        ...     ...  ...        ...    ...    ...      ...       ...\n",
       "886         0       2    1  27.000000    0.0    0.0  13.0000         2\n",
       "887         1       1    0  19.000000    0.0    0.0  30.0000         2\n",
       "888         0       3    0  29.699118    1.0    2.0  23.4500         2\n",
       "889         1       1    1  26.000000    0.0    0.0  30.0000         0\n",
       "890         0       3    1  32.000000    0.0    0.0   7.7500         1\n",
       "\n",
       "[891 rows x 8 columns]"
      ]
     },
     "execution_count": 11,
     "metadata": {},
     "output_type": "execute_result"
    }
   ],
   "source": [
    "train"
   ]
  },
  {
   "cell_type": "markdown",
   "id": "1db6cef4",
   "metadata": {
    "papermill": {
     "duration": 0.006965,
     "end_time": "2022-12-14T17:47:17.699226",
     "exception": false,
     "start_time": "2022-12-14T17:47:17.692261",
     "status": "completed"
    },
    "tags": []
   },
   "source": [
    "# Training Model"
   ]
  },
  {
   "cell_type": "code",
   "execution_count": 12,
   "id": "98f86c6b",
   "metadata": {
    "execution": {
     "iopub.execute_input": "2022-12-14T17:47:17.715427Z",
     "iopub.status.busy": "2022-12-14T17:47:17.715083Z",
     "iopub.status.idle": "2022-12-14T17:47:17.722839Z",
     "shell.execute_reply": "2022-12-14T17:47:17.721441Z"
    },
    "papermill": {
     "duration": 0.018815,
     "end_time": "2022-12-14T17:47:17.725196",
     "exception": false,
     "start_time": "2022-12-14T17:47:17.706381",
     "status": "completed"
    },
    "tags": []
   },
   "outputs": [],
   "source": [
    "y = train['Survived'].copy()\n",
    "X = train.drop('Survived', axis=1).copy()\n",
    "X_train, X_test, y_train, y_test = train_test_split(X, y, train_size=0.7, random_state=143)\n"
   ]
  },
  {
   "cell_type": "code",
   "execution_count": 13,
   "id": "28dad1fd",
   "metadata": {
    "execution": {
     "iopub.execute_input": "2022-12-14T17:47:17.741420Z",
     "iopub.status.busy": "2022-12-14T17:47:17.741100Z",
     "iopub.status.idle": "2022-12-14T17:47:18.360812Z",
     "shell.execute_reply": "2022-12-14T17:47:18.360042Z"
    },
    "papermill": {
     "duration": 0.630435,
     "end_time": "2022-12-14T17:47:18.363184",
     "exception": false,
     "start_time": "2022-12-14T17:47:17.732749",
     "status": "completed"
    },
    "tags": []
   },
   "outputs": [],
   "source": [
    "models = {\n",
    "    LogisticRegression(): \"        Logistic Regression\",\n",
    "    XGBClassifier():      \"        XGBClassifier\",\n",
    "    SVC():                \"        Support Vector Machine\",\n",
    "    MLPClassifier():      \"        Neural Network\",\n",
    "    \n",
    "}\n",
    "\n",
    "for model in models.keys():\n",
    "    model.fit(X_train, y_train)"
   ]
  },
  {
   "cell_type": "code",
   "execution_count": 14,
   "id": "c8d2cc2e",
   "metadata": {
    "execution": {
     "iopub.execute_input": "2022-12-14T17:47:18.402675Z",
     "iopub.status.busy": "2022-12-14T17:47:18.402327Z",
     "iopub.status.idle": "2022-12-14T17:47:18.452150Z",
     "shell.execute_reply": "2022-12-14T17:47:18.451174Z"
    },
    "papermill": {
     "duration": 0.080591,
     "end_time": "2022-12-14T17:47:18.454654",
     "exception": false,
     "start_time": "2022-12-14T17:47:18.374063",
     "status": "completed"
    },
    "tags": []
   },
   "outputs": [
    {
     "name": "stdout",
     "output_type": "stream",
     "text": [
      "        Logistic Regression: 77.99%\n",
      "        XGBClassifier: 80.97%\n",
      "        Support Vector Machine: 70.52%\n",
      "        Neural Network: 77.61%\n"
     ]
    }
   ],
   "source": [
    "# Accuracy Score\n",
    "for model, name in models.items():\n",
    "    print(name + \": {:.2f}%\".format(model.score(X_test, y_test)*100))"
   ]
  },
  {
   "cell_type": "markdown",
   "id": "d41534f2",
   "metadata": {
    "papermill": {
     "duration": 0.020011,
     "end_time": "2022-12-14T17:47:18.487877",
     "exception": false,
     "start_time": "2022-12-14T17:47:18.467866",
     "status": "completed"
    },
    "tags": []
   },
   "source": [
    "## Adjusting XGBoost Parameters"
   ]
  },
  {
   "cell_type": "code",
   "execution_count": 15,
   "id": "2333f32d",
   "metadata": {
    "execution": {
     "iopub.execute_input": "2022-12-14T17:47:18.510053Z",
     "iopub.status.busy": "2022-12-14T17:47:18.509681Z",
     "iopub.status.idle": "2022-12-14T17:47:18.515307Z",
     "shell.execute_reply": "2022-12-14T17:47:18.514510Z"
    },
    "papermill": {
     "duration": 0.020706,
     "end_time": "2022-12-14T17:47:18.518973",
     "exception": false,
     "start_time": "2022-12-14T17:47:18.498267",
     "status": "completed"
    },
    "tags": []
   },
   "outputs": [],
   "source": [
    "## Hyper Parameter Optimization\n",
    "\n",
    "params={\n",
    " \"learning_rate\"    : [0.05, 0.10, 0.15, 0.20, 0.25, 0.30 ] ,\n",
    " \"max_depth\"        : [ 3, 4, 5, 6, 8, 10, 12, 15],\n",
    " \"min_child_weight\" : [ 1, 3, 5, 7 ],\n",
    " \"gamma\"            : [ 0.0, 0.1, 0.2 , 0.3, 0.4 ],\n",
    " \"colsample_bytree\" : [ 0.3, 0.4, 0.5 , 0.7 ]\n",
    "    \n",
    "}"
   ]
  },
  {
   "cell_type": "code",
   "execution_count": 16,
   "id": "9855170e",
   "metadata": {
    "execution": {
     "iopub.execute_input": "2022-12-14T17:47:18.542161Z",
     "iopub.status.busy": "2022-12-14T17:47:18.541800Z",
     "iopub.status.idle": "2022-12-14T17:47:18.546018Z",
     "shell.execute_reply": "2022-12-14T17:47:18.545238Z"
    },
    "papermill": {
     "duration": 0.019968,
     "end_time": "2022-12-14T17:47:18.549657",
     "exception": false,
     "start_time": "2022-12-14T17:47:18.529689",
     "status": "completed"
    },
    "tags": []
   },
   "outputs": [],
   "source": [
    "## Hyperparameter optimization using RandomizedSearchCV\n",
    "from sklearn.model_selection import RandomizedSearchCV, GridSearchCV\n",
    "import xgboost"
   ]
  },
  {
   "cell_type": "code",
   "execution_count": 17,
   "id": "0e15ac81",
   "metadata": {
    "execution": {
     "iopub.execute_input": "2022-12-14T17:47:18.570696Z",
     "iopub.status.busy": "2022-12-14T17:47:18.570422Z",
     "iopub.status.idle": "2022-12-14T17:47:18.575693Z",
     "shell.execute_reply": "2022-12-14T17:47:18.574995Z"
    },
    "papermill": {
     "duration": 0.017233,
     "end_time": "2022-12-14T17:47:18.577422",
     "exception": false,
     "start_time": "2022-12-14T17:47:18.560189",
     "status": "completed"
    },
    "tags": []
   },
   "outputs": [],
   "source": [
    "def timer(start_time=None):\n",
    "    if not start_time:\n",
    "        start_time = datetime.now()\n",
    "        return start_time\n",
    "    elif start_time:\n",
    "        thour, temp_sec = divmod((datetime.now() - start_time).total_seconds(), 3600)\n",
    "        tmin, tsec = divmod(temp_sec, 60)\n",
    "        print('\\n Time taken: %i hours %i minutes and %s seconds.' % (thour, tmin, round(tsec, 2)))"
   ]
  },
  {
   "cell_type": "code",
   "execution_count": 18,
   "id": "1566a3c3",
   "metadata": {
    "execution": {
     "iopub.execute_input": "2022-12-14T17:47:18.594826Z",
     "iopub.status.busy": "2022-12-14T17:47:18.594239Z",
     "iopub.status.idle": "2022-12-14T17:47:18.598779Z",
     "shell.execute_reply": "2022-12-14T17:47:18.597636Z"
    },
    "papermill": {
     "duration": 0.016024,
     "end_time": "2022-12-14T17:47:18.601326",
     "exception": false,
     "start_time": "2022-12-14T17:47:18.585302",
     "status": "completed"
    },
    "tags": []
   },
   "outputs": [],
   "source": [
    "classifier=xgboost.XGBClassifier()\n"
   ]
  },
  {
   "cell_type": "code",
   "execution_count": 19,
   "id": "fafb291e",
   "metadata": {
    "execution": {
     "iopub.execute_input": "2022-12-14T17:47:18.618722Z",
     "iopub.status.busy": "2022-12-14T17:47:18.618421Z",
     "iopub.status.idle": "2022-12-14T17:47:18.622451Z",
     "shell.execute_reply": "2022-12-14T17:47:18.621635Z"
    },
    "papermill": {
     "duration": 0.014639,
     "end_time": "2022-12-14T17:47:18.624030",
     "exception": false,
     "start_time": "2022-12-14T17:47:18.609391",
     "status": "completed"
    },
    "tags": []
   },
   "outputs": [],
   "source": [
    "random_search=RandomizedSearchCV(classifier,param_distributions=params,n_iter=5,scoring='roc_auc',n_jobs=-1,cv=5,verbose=3)\n"
   ]
  },
  {
   "cell_type": "code",
   "execution_count": 20,
   "id": "b725a966",
   "metadata": {
    "execution": {
     "iopub.execute_input": "2022-12-14T17:47:18.641459Z",
     "iopub.status.busy": "2022-12-14T17:47:18.640341Z",
     "iopub.status.idle": "2022-12-14T17:47:22.403026Z",
     "shell.execute_reply": "2022-12-14T17:47:22.402086Z"
    },
    "papermill": {
     "duration": 3.773336,
     "end_time": "2022-12-14T17:47:22.404924",
     "exception": false,
     "start_time": "2022-12-14T17:47:18.631588",
     "status": "completed"
    },
    "tags": []
   },
   "outputs": [
    {
     "name": "stdout",
     "output_type": "stream",
     "text": [
      "Fitting 5 folds for each of 5 candidates, totalling 25 fits\n",
      "\n",
      " Time taken: 0 hours 0 minutes and 3.76 seconds.\n"
     ]
    }
   ],
   "source": [
    "from datetime import datetime\n",
    "# Here we go\n",
    "start_time = timer(None) # timing starts from this point for \"start_time\" variable\n",
    "random_search.fit(X,y)\n",
    "timer(start_time) # timing ends here for \"start_time\" variable"
   ]
  },
  {
   "cell_type": "code",
   "execution_count": 21,
   "id": "0160d190",
   "metadata": {
    "execution": {
     "iopub.execute_input": "2022-12-14T17:47:22.422670Z",
     "iopub.status.busy": "2022-12-14T17:47:22.422321Z",
     "iopub.status.idle": "2022-12-14T17:47:22.435574Z",
     "shell.execute_reply": "2022-12-14T17:47:22.434423Z"
    },
    "papermill": {
     "duration": 0.024209,
     "end_time": "2022-12-14T17:47:22.437425",
     "exception": false,
     "start_time": "2022-12-14T17:47:22.413216",
     "status": "completed"
    },
    "tags": []
   },
   "outputs": [
    {
     "data": {
      "text/plain": [
       "XGBClassifier(base_score=0.5, booster='gbtree', callbacks=None,\n",
       "              colsample_bylevel=1, colsample_bynode=1, colsample_bytree=0.7,\n",
       "              early_stopping_rounds=None, enable_categorical=False,\n",
       "              eval_metric=None, gamma=0.2, gpu_id=-1, grow_policy='depthwise',\n",
       "              importance_type=None, interaction_constraints='',\n",
       "              learning_rate=0.1, max_bin=256, max_cat_to_onehot=4,\n",
       "              max_delta_step=0, max_depth=8, max_leaves=0, min_child_weight=3,\n",
       "              missing=nan, monotone_constraints='()', n_estimators=100,\n",
       "              n_jobs=0, num_parallel_tree=1, predictor='auto', random_state=0,\n",
       "              reg_alpha=0, reg_lambda=1, ...)"
      ]
     },
     "execution_count": 21,
     "metadata": {},
     "output_type": "execute_result"
    }
   ],
   "source": [
    "random_search.best_estimator_"
   ]
  },
  {
   "cell_type": "code",
   "execution_count": 22,
   "id": "e22b161a",
   "metadata": {
    "execution": {
     "iopub.execute_input": "2022-12-14T17:47:22.454880Z",
     "iopub.status.busy": "2022-12-14T17:47:22.454538Z",
     "iopub.status.idle": "2022-12-14T17:47:22.461251Z",
     "shell.execute_reply": "2022-12-14T17:47:22.460183Z"
    },
    "papermill": {
     "duration": 0.017596,
     "end_time": "2022-12-14T17:47:22.463041",
     "exception": false,
     "start_time": "2022-12-14T17:47:22.445445",
     "status": "completed"
    },
    "tags": []
   },
   "outputs": [
    {
     "data": {
      "text/plain": [
       "{'min_child_weight': 3,\n",
       " 'max_depth': 8,\n",
       " 'learning_rate': 0.1,\n",
       " 'gamma': 0.2,\n",
       " 'colsample_bytree': 0.7}"
      ]
     },
     "execution_count": 22,
     "metadata": {},
     "output_type": "execute_result"
    }
   ],
   "source": [
    "random_search.best_params_"
   ]
  },
  {
   "cell_type": "code",
   "execution_count": 23,
   "id": "258d15aa",
   "metadata": {
    "execution": {
     "iopub.execute_input": "2022-12-14T17:47:22.480108Z",
     "iopub.status.busy": "2022-12-14T17:47:22.479795Z",
     "iopub.status.idle": "2022-12-14T17:47:22.486433Z",
     "shell.execute_reply": "2022-12-14T17:47:22.485333Z"
    },
    "papermill": {
     "duration": 0.017244,
     "end_time": "2022-12-14T17:47:22.488234",
     "exception": false,
     "start_time": "2022-12-14T17:47:22.470990",
     "status": "completed"
    },
    "tags": []
   },
   "outputs": [],
   "source": [
    "classifier=xgboost.XGBClassifier(base_score=0.5, booster='gbtree', callbacks=None,\n",
    "              colsample_bylevel=1, colsample_bynode=1, colsample_bytree=0.5,\n",
    "              early_stopping_rounds=None, enable_categorical=False,\n",
    "              eval_metric=None, gamma=0.1, gpu_id=-1, grow_policy='depthwise',\n",
    "              importance_type=None, interaction_constraints='',\n",
    "              learning_rate=0.05, max_bin=256, max_cat_to_onehot=4,\n",
    "              max_delta_step=0, max_depth=4, max_leaves=0, min_child_weight=3,\n",
    "              monotone_constraints='()', n_estimators=100,\n",
    "              n_jobs=0, num_parallel_tree=1, predictor='auto', random_state=0,\n",
    "              reg_alpha=0, reg_lambda=1,)"
   ]
  },
  {
   "cell_type": "code",
   "execution_count": 24,
   "id": "42d61566",
   "metadata": {
    "execution": {
     "iopub.execute_input": "2022-12-14T17:47:22.505081Z",
     "iopub.status.busy": "2022-12-14T17:47:22.504778Z",
     "iopub.status.idle": "2022-12-14T17:47:24.305216Z",
     "shell.execute_reply": "2022-12-14T17:47:24.304515Z"
    },
    "papermill": {
     "duration": 1.811288,
     "end_time": "2022-12-14T17:47:24.307406",
     "exception": false,
     "start_time": "2022-12-14T17:47:22.496118",
     "status": "completed"
    },
    "tags": []
   },
   "outputs": [],
   "source": [
    "from sklearn.model_selection import cross_val_score\n",
    "score=cross_val_score(classifier,X,y,cv=10)"
   ]
  },
  {
   "cell_type": "code",
   "execution_count": 25,
   "id": "08209b17",
   "metadata": {
    "execution": {
     "iopub.execute_input": "2022-12-14T17:47:24.325129Z",
     "iopub.status.busy": "2022-12-14T17:47:24.324820Z",
     "iopub.status.idle": "2022-12-14T17:47:24.331155Z",
     "shell.execute_reply": "2022-12-14T17:47:24.330155Z"
    },
    "papermill": {
     "duration": 0.017294,
     "end_time": "2022-12-14T17:47:24.332939",
     "exception": false,
     "start_time": "2022-12-14T17:47:24.315645",
     "status": "completed"
    },
    "tags": []
   },
   "outputs": [
    {
     "data": {
      "text/plain": [
       "array([0.76666667, 0.78651685, 0.76404494, 0.86516854, 0.86516854,\n",
       "       0.82022472, 0.83146067, 0.76404494, 0.85393258, 0.82022472])"
      ]
     },
     "execution_count": 25,
     "metadata": {},
     "output_type": "execute_result"
    }
   ],
   "source": [
    "score"
   ]
  },
  {
   "cell_type": "code",
   "execution_count": 26,
   "id": "a88d9008",
   "metadata": {
    "execution": {
     "iopub.execute_input": "2022-12-14T17:47:24.350840Z",
     "iopub.status.busy": "2022-12-14T17:47:24.350512Z",
     "iopub.status.idle": "2022-12-14T17:47:24.357561Z",
     "shell.execute_reply": "2022-12-14T17:47:24.356356Z"
    },
    "papermill": {
     "duration": 0.01873,
     "end_time": "2022-12-14T17:47:24.359715",
     "exception": false,
     "start_time": "2022-12-14T17:47:24.340985",
     "status": "completed"
    },
    "tags": []
   },
   "outputs": [
    {
     "data": {
      "text/plain": [
       "0.81374531835206"
      ]
     },
     "execution_count": 26,
     "metadata": {},
     "output_type": "execute_result"
    }
   ],
   "source": [
    "score.mean()"
   ]
  },
  {
   "cell_type": "code",
   "execution_count": 27,
   "id": "15e961f0",
   "metadata": {
    "execution": {
     "iopub.execute_input": "2022-12-14T17:47:24.378235Z",
     "iopub.status.busy": "2022-12-14T17:47:24.377666Z",
     "iopub.status.idle": "2022-12-14T17:47:24.571221Z",
     "shell.execute_reply": "2022-12-14T17:47:24.570140Z"
    },
    "papermill": {
     "duration": 0.206546,
     "end_time": "2022-12-14T17:47:24.574541",
     "exception": false,
     "start_time": "2022-12-14T17:47:24.367995",
     "status": "completed"
    },
    "tags": []
   },
   "outputs": [
    {
     "name": "stdout",
     "output_type": "stream",
     "text": [
      "Optimized XGBoost: 84.33%\n"
     ]
    }
   ],
   "source": [
    "classifier.fit(X,y)\n",
    "print(\"Optimized XGBoost: {:.2f}%\".format(classifier.score(X_test, y_test)*100))\n",
    "y_prd_xgb= classifier.predict(test)"
   ]
  },
  {
   "cell_type": "code",
   "execution_count": 28,
   "id": "6ce84fbb",
   "metadata": {
    "execution": {
     "iopub.execute_input": "2022-12-14T17:47:24.594020Z",
     "iopub.status.busy": "2022-12-14T17:47:24.593087Z",
     "iopub.status.idle": "2022-12-14T17:47:24.603366Z",
     "shell.execute_reply": "2022-12-14T17:47:24.601960Z"
    },
    "papermill": {
     "duration": 0.021216,
     "end_time": "2022-12-14T17:47:24.605114",
     "exception": false,
     "start_time": "2022-12-14T17:47:24.583898",
     "status": "completed"
    },
    "tags": []
   },
   "outputs": [
    {
     "name": "stdout",
     "output_type": "stream",
     "text": [
      "Your submission was successful!\n"
     ]
    }
   ],
   "source": [
    "output = pd.DataFrame({'PassengerId': dfps, 'Survived': y_prd_xgb})\n",
    "output.to_csv('submission.csv', index=False)\n",
    "print(\"Your submission was successful!\")"
   ]
  },
  {
   "cell_type": "code",
   "execution_count": null,
   "id": "16e09d0d",
   "metadata": {
    "papermill": {
     "duration": 0.007939,
     "end_time": "2022-12-14T17:47:24.621143",
     "exception": false,
     "start_time": "2022-12-14T17:47:24.613204",
     "status": "completed"
    },
    "tags": []
   },
   "outputs": [],
   "source": []
  }
 ],
 "metadata": {
  "kernelspec": {
   "display_name": "Python 3",
   "language": "python",
   "name": "python3"
  },
  "language_info": {
   "codemirror_mode": {
    "name": "ipython",
    "version": 3
   },
   "file_extension": ".py",
   "mimetype": "text/x-python",
   "name": "python",
   "nbconvert_exporter": "python",
   "pygments_lexer": "ipython3",
   "version": "3.7.12"
  },
  "papermill": {
   "default_parameters": {},
   "duration": 19.06334,
   "end_time": "2022-12-14T17:47:27.249473",
   "environment_variables": {},
   "exception": null,
   "input_path": "__notebook__.ipynb",
   "output_path": "__notebook__.ipynb",
   "parameters": {},
   "start_time": "2022-12-14T17:47:08.186133",
   "version": "2.3.4"
  }
 },
 "nbformat": 4,
 "nbformat_minor": 5
}
